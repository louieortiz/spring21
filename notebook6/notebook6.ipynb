{
 "cells": [
  {
   "cell_type": "markdown",
   "metadata": {
    "cell_id": "00000-5f1705c6-1dfa-48ca-b6ed-2fcea20e93f8",
    "deepnote_cell_type": "markdown",
    "output_cleared": false,
    "tags": []
   },
   
   "source": [
    "<h1> Notebook 6: Data Has Borders </h1>\n",
    "\n",
    "This module is an introduction to working with Spatial data. It is meant to help you think through one application of the data life cycle so you can start thinking about your final projects. You do not have to use spatial data but may find that maps are useful for communicating data, especially if the story is centered around a particular place.\n",
    "\n",
    "**Learning Objectives**\n",
    "\n",
    "In combination with lecture and discussion you will learn about:\n",
    "- The complexities of working with environmental data for justice \n",
    "- Libraries used for working with spatial data\n",
    "- Data structure considerations special to spatial datasets\n",
    "- How boundaries delineated by humans can conflict with natural boundaries\n",
    "- Considerations for analysing and communicating environmental injustices \n",
    "\n",
    "Some fun terms we will use: Vectors, Rasters or Fields, Coordinate Referencing System, Aggregation, Modifiable Area Unit Problem, Multi-dimensional Data \n",
    "\n",
    "If you want to learn more about GIS and use spatial data in your final project, check out these\n",
    "[resources from the library](https://guides.lib.berkeley.edu/gis/remote).\n",
    "The map librarian can help you find data and other resources to help you complete a final project with spatial data.\n",
    "\n",
    "**Part 1: Working with Spatial Data**\n",
    "\n",
    "1. [Libraries to Create a Computing Environment](#libraries)\n",
    "2. [Loading Data As Objects](#loadingdata)\n",
    "3. [Spatial Data Structures](#structures)\n",
    "4. [Attribute Tables](#attribute)\n",
    "5. [Plotting Data](#plot)\n",
    "6. [Metadata](#meta)\n",
    "\n",
    "**Part 2: Meanings Embedded in Maps**\n",
    "\n",
    "7. [How to Do Calculations on Data](#vectorcalc)\n",
    "8. [Statistical Analysis and Complex Graphics](#foreshadowing)\n",
    "9. [Plotting for Display]\n"
   ]
  },
  {
   "cell_type": "markdown",
   "metadata": {
    "cell_id": "00001-910f090a-86ec-4bbd-beef-66941e939be2",
    "deepnote_cell_type": "markdown",
    "output_cleared": false,
    "tags": []
   },
   "source": [
    "#### Completing the Notebooks\n",
    "\n",
    "\n",
    "<div class=\"alert alert-info\"> \n",
    "\n",
    "**Discussion kernel** cells are in blue and ask you to answers questions or fill in code cells. To receive full credit for your assignment, you must complete all **Discussion kernel** cells.\n",
    "An alternative to answering up to half of the discussion questions is adding a markdown cell with suggestions on ways to improve the notebook's **code, background material, or easy of use**. If you can code clearer images for conveying the message or adjust the language to make it more legible please let us know, and you will get credit for it. Be sure to use highlight the cell you are using to suggest improvements by bolding **like this**.\n",
    "\n",
    "\n"
   ]
  },
  {
   "cell_type": "markdown",
   "metadata": {
    "cell_id": "00002-06f2fcaf-bc58-4551-a727-b626aa61243c",
    "deepnote_cell_type": "markdown",
    "tags": []
   },
   "source": [
    "<h3> Grounding Our Data Science </h3>\n",
    "\n",
    "\n",
    "TCE, or Trichloroethylene, is a liquid used as a solvent to remove and extract grease, oil, tar, dirt, wax, etc. It can be used as an adhesive, varnish, pesticide, paint stripper, in dry cleaning and more.\n",
    "\n",
    "Anyone can be exposed to TCE through air, water, soil, food, or direct contact. Mild exposure can irritate skin or eyes. Moderate to chronic exposure can cause headaches, nausea, and various harmful effects to your body's immune system and various organs including your kidneys and liver. \n",
    "\n",
    "\n",
    "In the Bay Area, there are cleanup sites that have been found to have TCE in the past. Here are a few examples:\n",
    "<br>\n",
    "1. McClymonds High School in Oakland was shut down in February 2020 due to TCE being found in groundwater under the school.\n",
    "<br>\n",
    "2. In 2017, Sunnyvale continues to be affected by TCE that contaminated the area in the 1970s.\n",
    "\n",
    "As TCE was commonly used to clean core components of computing technology, it only makes sense that it is sometimes found in communities and Superfund sites in the Bay Area. Superfund, also known as Comprehensive Environmental Response, Compensation and Liability Act (CERCLA),\n",
    "is a way for the Government and Environmental Protection Agency (EPA) to work towards cleaning toxic waste sites throughout the US.\n",
    "A Superfund site is placed on the National Priorities List by the EPA to warn residents of those areas and to allow for more effective\n",
    "cleanup. There are examples of superfund sites being cleaned up and developed \n",
    "In [Mountain View a superfund site](https://sanfrancisco.cbslocal.com/2019/09/10/mountain-view-toxic-superfund-site-clean-enough-for-new-housing-construction/) was remediated and developed for housing in 2019. The EPA has pages with detailed information on superfund sites, you can learn more about [Moffett Field](https://cumulis.epa.gov/supercpad/CurSites/csitinfo.cfm?id=0902734&msspp=med) and  Fairchild plant in [Mountain view](https://cumulis.epa.gov/supercpad/SiteProfiles/index.cfm?fuseaction=second.cleanup&id=0901680). Does it say on these pages how much the clean-up is costing?\n",
    "\n",
    "Analyzing data to better understand why these issues happen and how to better prevent them in the future is a prime example of how we can use data science for social good, in this instance to help identify and solve environmental problems and define justice surrounding communities.\n",
    "\n",
    "If you want to learn more about TCE and exposure pathways check out these links for more information:\n",
    "\n",
    "- The definition of a superfund site from the institution that set the definition, the U.S. [Environmental Protection Agency (EPA)](https://www.epa.gov/superfund/what-superfund)\n",
    "\n",
    "- Local news [KPIX CBS SF Bay Area](https://www.youtube.com/watch?v=QZvfp7lQch8) reported that around 500 drinking water wells in the Bay Area were recently found to have TCE values above EPA standards.\n",
    "\n",
    "- The most detailed and easy to understand information I found about TCE is this Cafe Sci Scilicon Valley [talk](https://www.youtube.com/watch?v=HP9BjQJZgfs). There are four parts, most have less than 100 views. Originally I had a link from the CDC (Center for Diseas control) about TCE but the link is broken, and the site appears be moved or removed. \n"
   ]
  },
  {
   "cell_type": "markdown",
   "metadata": {
    "cell_id": "00003-26baad2b-fd3d-4547-9248-6e74cacfb346",
    "deepnote_cell_type": "markdown",
    "tags": []
   },
   "source": [
    "<div class=\"alert alert-block alert-danger\">\n",
    "<b>HCE connection:</b> We define sociotechnical system as: An organization in which people and technology\n",
    "interact and work together such that human and\n",
    "technical agency is complexly intertwined and\n",
    "distributed. Large and highly complex\n",
    "sociotechnical systems distribute risks and\n",
    "responsibilities widely and unevenly, and are\n",
    "difficult to regulate. When they fail it is often difficult\n",
    "or even impossible to identify a single human or\n",
    "mechanical cause.\n",
    "\n",
    "</div>"
   ]
  },
  {
   "cell_type": "markdown",
   "metadata": {
    "cell_id": "00003-c91eda98-bf85-43b3-87f7-2822073ac77e",
    "deepnote_cell_type": "markdown",
    "tags": []
   },
   "source": [
    "<h3> Real Data, Real Implications</h3>\n",
    "\n",
    "\n",
    "If you were a policymaker deciding where to fund clean-up sites, how would you make that decision?\n",
    "\n",
    "When incorporating data into the decision making process, you must consider the complex sociotechnical systems\n",
    "that are part of how available data was created and what it is suppose to represent in order to choose the most appropriate statistical analyses.\n",
    "\n",
    "- This EPA site has an easy presentation of [environmental data](https://www.epa.gov/superfund-redevelopment-initiative/superfund-sites-reuse-california) but it is limited.\n",
    "- The CDC (Center for Disease Control) Agency for Toxic subtances and Disease Registry has [toxicological profiles](https://wwwn.cdc.gov/TSP/ToxProfiles/ToxProfiles.aspx?id=173&tid=30) publically available on many substances.\n",
    "\n",
    "\n",
    "Finding data on all point source pollutants is made difficult because they are sometimes separated by where they are polluting (i.e. air, water, or soil) and the agency that was made responsible for collecting the data by either a local or state government or at the federal level.\n",
    "\n",
    "\n",
    "Environmental data analysis is particularly important because governments use it to try to understand and measure the \n",
    "extent of a problem. The results of these analyses and their interpretation, in combination with the politics of the time,\n",
    "have a direct impact on if and how contamination is mitigated or cleaned up. Additionally, if social impacts are considered, environmental data analysis could support\n",
    "restitution efforts for those who suffered the consequences of pollution.\n",
    "\n",
    "\n",
    "How would you be able to find out if a chemical is potentially carcinogenic before it enters the environment? in a [lab](https://www.youtube.com/watch?v=Zc8_9I5jcGA) is one way."
   ]
  },
  {
   "cell_type": "markdown",
   "metadata": {
    "cell_id": "00004-891b86dd-27d4-4149-ae60-7b2e240cf729",
    "deepnote_cell_type": "markdown",
    "tags": []
   },
   "source": [
    "<!-- BEGIN QUESTION -->\n",
    "\n",
    "<div class=\"alert alert-info\"> \n",
    "\n",
    "**Discussion kernel 0** : Consider the differences in approaching getting a toxic TCE plum cleaned up if you are living above a plum as a renter or owner. Understanding that we all have different definitions of justice, How would you justly set up a system to find properties exposed to TCE and clean up the contamination? In answering this be sure to name and describe at least one other potential stakeholder and at least one barrier to getting the site cleaned up.\n",
    "\n",
    "</div>\n",
    "\n",
    "<!--\n",
    "BEGIN QUESTION\n",
    "name: q0\n",
    "points: 1\n",
    "manual: true\n",
    "-->"
   ]
  },
  {
   "cell_type": "markdown",
   "metadata": {
    "cell_id": "00005-b70e361b-2b1d-4491-9fe3-dc0c550f622b",
    "deepnote_cell_type": "markdown",
    "tags": []
   },
   "source": [
    "**Answer here** *Double click to edit this markdown cell with your answer*"
   ]
  },
  {
   "cell_type": "markdown",
   "metadata": {
    "cell_id": "00000-cef4f8fe-f090-4050-89c4-a79207071a82",
    "deepnote_cell_type": "markdown",
    "output_cleared": false
   },
   "source": [
    "<!-- END QUESTION -->\n",
    "\n",
    "\n",
    "# Part 1: Working with Spatial Data\n",
    "Since spatial data is representing a quality and a particular location, we need\n",
    "to analyze it taking into account its [spatial dimension](http://wiki.gis.com/wiki/index.php/Spatial_Analysis). Special statistical methods are used on spatial data because things that are nearby tend to be similar, this  Spatial data is\n",
    "also particularly fun to visualize because people are emotionally connected to\n",
    "places with meanings to them. They are more curious about maps and can\n",
    "easily connect new data about a place with existing knowledge to \n",
    "develop insights on: trends, relationships, and outliers in our environment. \n",
    "\n",
    "Additionally, \n",
    "many trends are spatial by nature, and a deeper message can be communicated by displaying \n",
    "data spatially. There are many visual tricks to representing spatial data; it takes time to \n",
    "master [the art](https://towardsdatascience.com/ways-to-improve-a-map-visualization-ba3dc083b3cb). \n",
    "Of course, it is not just about the art of the map, since a good map uses science and statistics in appropriate ways. \n",
    "\n",
    "# Loading Necessary Libraries <a id='libraries'></a>\n",
    "<h4> Creating the computing environment to model Earth's environment </h4>\n",
    "\n",
    "Libraries are your control panels, you can only do the actions libraries have defined.\n",
    "[Geopandas](https://geopandas.org/io.html) allows you to read certain spatial file types and perform [geometric manipulations](https://geopandas.org/geometric_manipulations.html). \n",
    "Spatial data is made available in [various formats](https://gisgeography.com/gis-formats/). You must ensure the format works with the library you are using to read in the file.\n",
    "One advantage of using spatial libraries is calculating measurements that are comparable to real-world distances and areas.\n"
   ]
  },
  {
   "cell_type": "markdown",
   "metadata": {
    "cell_id": "00001-71f1d033-ece5-42b9-8d2a-22d05d8d9078",
    "deepnote_cell_type": "markdown",
    "output_cleared": false
   },
   "source": [
    "<div class=\"alert alert-block alert-warning\">\n",
    "<b>CODING TIP:</b> Installing additional libraries is not necessary if they're included in the \n",
    "environment you are working from. For example if you are working in <a href=\" https://cocalc.com/doc/software-python.html\">cocalc</a> their documentation informs you\n",
    "of what libraries are pre-installed. There are other collaborative notebook environments like <a href=\"www.deepnote.com\">Deepnote</a> and Google's <a href=\"https://colab.research.google.com\"/>collaboratory</a>. Each have their own \n",
    "If you get an error try installing whatever the error says is missing.\n",
    "</div>\n"
   ]
  },
  {
   "cell_type": "markdown",
   "metadata": {
    "cell_id": "00006-3efed3de-2601-4b13-bf36-a9bcb116661d",
    "deepnote_cell_type": "markdown",
    "tags": []
   },
   "source": [
    "**Dependencies**\n",
    "\n",
    "#Depending on where you're working from you may have to \n",
    "#install libraries we will use and their dependencies \n"
   ]
  },
  {
   "cell_type": "code",
   "execution_count": null,
   "metadata": {
    "cell_id": "00004-c9ef9e25-0158-4ade-88b3-15da3abf97a7",
    "deepnote_cell_type": "code",
    "deepnote_to_be_reexecuted": false,
    "execution_millis": 90011,
    "execution_start": 1616100475693,
    "output_cleared": false,
    "source_hash": "e7b98b28",
    "tags": []
   },
   "outputs": [],
   "source": [
    "#Depending on where you're working from you may have to \n",
    "#install libraries we will use and their dependencies \n",
    "!pip install geopandas==0.8.2\n",
    "!pip install -U numpy\n",
    "!pip install pylandstats\n",
    "!pip install mapclassify"
   ]
  },
  {
   "cell_type": "code",
   "execution_count": null,
   "metadata": {
    "cell_id": "00002-99d4ef00-581b-4db7-8cf2-3ad42eeada8a",
    "collapsed": false,
    "deepnote_cell_type": "code",
    "deepnote_to_be_reexecuted": false,
    "execution_millis": 8684,
    "execution_start": 1616100565710,
    "jupyter": {
     "outputs_hidden": false
    },
    "output_cleared": false,
    "source_hash": "4a0a42c5"
   },
   "outputs": [],
   "source": [
    "#This is so we can get a clean export PDF to turn in\n",
    "import otter\n",
    "generator = otter.Notebook()\n",
    "\n",
    "#this is for our sanity - warnings of future deprecated funcitons will not show\n",
    "import warnings\n",
    "warnings.simplefilter(action='ignore', category=FutureWarning)\n",
    "\n",
    "#########################\n",
    "#These are libraries that are at the core of spatial data in Python\n",
    "#You can import a library as an abbreviated form or nickname that you can use to call on\n",
    "#the library's functions instead of using the full name.\n",
    "\n",
    "import geopandas as gpd\n",
    "import matplotlib as mpl\n",
    "import matplotlib.pyplot as plt\n",
    "import rasterio\n",
    "import pandas as pd\n",
    "import numpy as np\n",
    "from scipy import ndimage\n",
    "import matplotlib.pylab as pylab\n",
    "########################\n",
    "#These libraries offer easy to use functions that make data analysis \n",
    "#easier. We use import__ as__ to shorted the name of the library,\n",
    "#this means less typing when we call up functions\n",
    "import folium\n",
    "from folium.plugins import FastMarkerCluster\n",
    "import mapclassify\n",
    "import pylandstats as pls"
   ]
  },
  {
   "cell_type": "markdown",
   "metadata": {
    "cell_id": "00003-5a17807b-52f8-478d-89e9-e899a2916c91",
    "deepnote_cell_type": "markdown",
    "output_cleared": false
   },
   "source": [
    "Above, we're importing the geopandas library, and within the matplotlib library, we are using the pyplot interface, which is a more specific portion of matplotlib. Using \"matplotlib.pyplot\" indicates that we are accessing pyplot within matplotlib using what is often referred to as dot notation.\n",
    "\n",
    "The geopandas library is especially useful to work with geospatial data using Python. The only limitation with this library is that it does not work with raster data, only vector representations."
   ]
  },
  {
   "cell_type": "markdown",
   "metadata": {
    "cell_id": "00004-ae22c9e6-48f1-46b1-a3fc-9a32cebed62a",
    "deepnote_cell_type": "markdown",
    "output_cleared": false
   },
   "source": [
    "<h1>\n",
    "Loading Data as Objects\n",
    "</h1>\n",
    "Since Python is an object oriented language, we turn our dataset representing counties into the object named counties using geopandas. We call on geopandas to read the shapefile data using the command `gpd.read_file()`.\n",
    "\n",
    "The path name and format will depending on where your data is stored. \n",
    "\n",
    "There are different ways to load geospatial files and different types of files that can hold geospatial data\n",
    "geopandas can read zipped files, to see how to load different file types visit the [documentation](https://geopandas.org/io.html)."
   ]
  },
  {
   "cell_type": "code",
   "execution_count": null,
   "metadata": {
    "cell_id": "00005-b51365db-0254-4bdb-abdf-1f76a0b6f807",
    "deepnote_cell_type": "code",
    "deepnote_to_be_reexecuted": true,
    "execution_millis": 1183,
    "output_cleared": false,
    "source_hash": "22402088",
    "tags": []
   },
   "outputs": [],
   "source": [
    "counties = gpd.read_file('zip://4326.zip!4326/CA_Counties_TIGER2016.shp')\n",
    "\n",
    "ws = gpd.read_file('zip://4326.zip!4326/ca_huc10.shp')\n",
    "\n",
    "streams = gpd.read_file('zip://4326.zip!4326/WACstreams.shp')\n",
    "\n",
    "census = gpd.read_file('zip://4326.zip!4326/bkcensusblk.shp')"
   ]
  },
  {
   "cell_type": "markdown",
   "metadata": {
    "cell_id": "00009-30d167f6-6764-499d-8ce2-5786a90871af",
    "deepnote_cell_type": "markdown",
    "tags": []
   },
   "source": [
    "<h3> Loading Text files with Location Attributes</h3>\n",
    "\n",
    "There are a few ways to associate data tables with a location. The most common in \n",
    "the social sciences is something like the census. As we have seen census data is like a table, but each data point\n",
    "is related to a particular area. As a spatial data scientist you may have to 'join' census table data to\n",
    "census tracks to make an informative map of census results. More commonly, census data is used in complex\n",
    "statistical analyses to explore relationships and outliers. \n",
    "\n",
    "Next, we will see a common way of receiving point data as a comma separated value (CSV) text file. \n",
    "Notice that you can specify the CRS as one of the arguments to load the data. This is a great time saver, but the data must have been made in that CRS for it to work or have been converted to it beforehand.\n"
   ]
  },
  {
   "cell_type": "markdown",
   "metadata": {
    "cell_id": "00011-5f709113-9b24-4be4-a45b-bb491038c4f1",
    "deepnote_cell_type": "markdown",
    "tags": []
   },
   "source": [
    "<div class=\"alert alert-block alert-warning\">\n",
    "<b>Coding tip:</b> df is commonly used to share reproducible code; df stands for data frame. Below, it is \n",
    "used as a generic name to call the CSV before reading it in as a point vector file. It is not a problem\n",
    "here, but be aware that if you reuse df for another object it will no longer be associated with the same CSV.\n",
    "</div>"
   ]
  },
  {
   "cell_type": "code",
   "execution_count": null,
   "metadata": {
    "cell_id": "00009-e72c1326-604a-4311-abbc-aac6ee71571b",
    "deepnote_cell_type": "code",
    "deepnote_to_be_reexecuted": true,
    "execution_millis": 1658,
    "source_hash": "ffacfb16",
    "tags": []
   },
   "outputs": [],
   "source": [
    "df = pd.read_csv(\"baytcewells.csv\")\n",
    "TCEwells = gpd.GeoDataFrame(\n",
    "    df, geometry=gpd.points_from_xy(df.LONGITUDE, df.LATITUDE), crs = 'EPSG:4326')"
   ]
  },
  {
   "cell_type": "markdown",
   "metadata": {
    "cell_id": "00012-17d0aa40-1d61-4d8a-9aca-7c8444d20d56",
    "deepnote_cell_type": "markdown",
    "tags": []
   },
   "source": [
    "An important consideration when working with spatial data is how the library reads location. \n",
    "In shapely, a Python package, X & Y are read in as Longitude & Latitude, opposite of most GIS' which use \n",
    "Latitude then Longitude. Check the library documentation to see what it uses if you are not sure.\n",
    "This may never come up, but if you are having trouble getting points to \n",
    "show, try switching lat/long to long/lat in the line of code where you first specified which \n",
    "attributes belong to X and Y when plotting the points. Remember that when we make representations\n",
    "of the Earth they have to be flattened into two dimensions because the planet is a spheroid. Drawing the Earth\n",
    "then becomes an exercise similar to a scatterplot with an X and Y axis."
   ]
  },
  {
   "cell_type": "markdown",
   "metadata": {
    "cell_id": "00009-b758f3bd-0b8e-4c6a-b9ca-69f625df8fb8",
    "deepnote_cell_type": "markdown",
    "tags": []
   },
   "source": [
    "<h3>Loading Continuous Datasets</h3>\n",
    "\n",
    "Loading raster datasets (think of a matrix or field) require rasterio, another Python package, because geopandas only \n",
    "handles vector data (points, lines, polygons). They are prefered in spatial sciences because many physical phenomena are not\n",
    "discrete in space, they do not just begin and end, they exist across all space but vary throughout. Think of the temperature of your room, is it warmer near the window?\n",
    "Is there a sharp distinction between a warm and cool area or is there a transition? It works similarly in cases of pollution, where the concentration of the pollutant is not the same throughout the area that is contaminated. You can learn \n",
    "more about how discrete and continuous data are used to model the environment from \n",
    "[ESRI](https://desktop.arcgis.com/en/arcmap/latest/extensions/3d-analyst/discrete-and-continuous-data-in-3d-analyst.htm) or [Wiki](http://wiki.gis.com/wiki/index.php/Discrete_and_Continuous_Data).\n",
    "\n",
    "The raster dataset we are working with is a clip of the National Land Cover Database showing \n",
    "Alameda county. It is a categorical dataset, meaning the numeric value stored in each pixel represents\n",
    "a classification of land cover determined by formal standards. To learn more about the classes used reference this [legend](https://www.mrlc.gov/data/legends/national-land-cover-database-2016-nlcd2016-legend).\n",
    "\n",
    "To learn more about how rasters differ from vector data visit [this guide](https://www.usna.edu/Users/oceano/pguth/md_help/html/mapb38f5.htm)."
   ]
  },
  {
   "cell_type": "code",
   "execution_count": null,
   "metadata": {
    "cell_id": "00005-4ad6cc3d-5357-441b-a965-a0bb75dee29a",
    "collapsed": false,
    "deepnote_cell_type": "code",
    "deepnote_to_be_reexecuted": true,
    "execution_millis": 1,
    "jupyter": {
     "outputs_hidden": false
    },
    "output_cleared": false,
    "source_hash": "9a4c4f06"
   },
   "outputs": [],
   "source": [
    "#Example of another way to call the file if it \n",
    "#were not zipped, could be autograded question \"how would you add file that is not zipped\"\n",
    "##answer: counties = gpd.read_file(\"ca-county-boundaries/CA_Counties/CA_Counties_TIGER2016.shp\")\n"
   ]
  },
  {
   "cell_type": "code",
   "execution_count": null,
   "metadata": {
    "cell_id": "00006-85a0b025-7c7b-4196-aafe-360fed0eed31",
    "deepnote_cell_type": "code",
    "deepnote_to_be_reexecuted": true,
    "execution_millis": 9,
    "output_cleared": false,
    "source_hash": "7e1484d9",
    "tags": []
   },
   "outputs": [],
   "source": [
    "lc = rasterio.open('zip://4326.zip!4326/Alameda_lc1.tif')"
   ]
  },
  {
   "cell_type": "markdown",
   "metadata": {
    "cell_id": "00019-73435af6-dafd-4e73-a8db-d3d2b617a591",
    "deepnote_cell_type": "markdown",
    "tags": []
   },
   "source": [
    "<div class=\"alert alert-block alert-success\">\n",
    "<b>Data life cycle:</b> When you start a project it is very helpful to keep a record of where your data \n",
    "comes from and where that data's documentation is. This is an example of a <a href=\"https://docs.google.com/spreadsheets/d/1QYg_REb2KZVLSGYlP_0VnCw7e__T0uWR75I1rVxxg0g/edit?usp=sharing\">sheet</a> used to keep this notebook's data acquisition organized.\n",
    "</div>"
   ]
  },
  {
   "cell_type": "markdown",
   "metadata": {
    "cell_id": "00015-dabd20a8-8b69-459b-930b-426b6f17b664",
    "deepnote_cell_type": "markdown",
    "tags": []
   },
   "source": [
    "<h3>Where Does Our Data Come From? </h3>\n",
    "\n",
    "As part of an exercize in data exploration we included the following datasets to be considered:\n",
    "- [TCE wells](https://gamagroundwater.waterboards.ca.gov/gama/gamamap/public/#) - California Water Boards\n",
    "- [County boundaries](https://data.ca.gov/dataset/ca-geographic-boundaries) - California Open Data Portal\n",
    "- [Census tracts](http://ratt.ced.berkeley.edu/downloads/gis_data/data_for_labs.html) - conveniently reused from a previous course but can be downloaded raw from [IPUMS NHGIS](https://www.nhgis.org/)\n",
    "- [Watershed boundaries](https://www.usgs.gov/core-science-systems/ngp/national-hydrography/access-national-hydrography-products) - USGS National Hydrography Dataset\n",
    "- [Easy Bay streams](http://explore.museumca.org/creeks/GIS/index.html) -\n",
    "- [Land cover raster](https://www.usgs.gov/centers/eros/science/national-land-cover-database?qt-science_center_objects=0#qt-science_center_objects) - USGS National Land Cover Database\n"
   ]
  },
  {
   "cell_type": "markdown",
   "metadata": {
    "cell_id": "00024-33cc556c-ead8-4c90-b40a-e372a12c301e",
    "deepnote_cell_type": "markdown",
    "tags": []
   },
   "source": [
    "<div class=\"alert alert-block alert-danger\">\n",
    "<b>HCE connection:</b> HIT THE BRAKES! How can we look under the hood of our data and \n",
    "make alterations if we don't even know where it comes from, who made it and why?\n",
    "</div>"
   ]
  },
  {
   "cell_type": "markdown",
   "metadata": {
    "cell_id": "00008-c3c7b782-ad2c-4975-bc93-d1bdc03d4cfb",
    "deepnote_cell_type": "markdown",
    "output_cleared": false,
    "tags": []
   },
   "source": [
    "<h1>\n",
    "Learning About Your Data's Structure\n",
    "</h1>\n",
    "\n",
    "How to learn about the file: What is in my data? Is my spatial referencing the same in all files?"
   ]
  },
  {
   "cell_type": "code",
   "execution_count": null,
   "metadata": {
    "cell_id": "00008-b5c4ae56-fb47-4f04-b245-35da0f15e7a6",
    "collapsed": false,
    "deepnote_cell_type": "code",
    "deepnote_to_be_reexecuted": true,
    "execution_millis": 2,
    "jupyter": {
     "outputs_hidden": false
    },
    "output_cleared": false,
    "source_hash": "e8565221"
   },
   "outputs": [],
   "source": [
    "print(\"The data type of counties is: \" + str(type(counties)))\n",
    "print(\"The data type of watershed is: \" + str(type(ws)))\n",
    "print(\"The data type of stream is: \" + str(type(streams)))\n",
    "print(\"The data type of Bay TCE wells is:\" + str(type(TCEwells)))\n",
    "print(\"The data type of land cover tif is: \" + str(type(lc)))"
   ]
  },
  {
   "cell_type": "markdown",
   "metadata": {
    "cell_id": "00018-98316c08-5f9d-46ee-aace-d1741e566cc8",
    "deepnote_cell_type": "markdown",
    "tags": []
   },
   "source": [
    "<!-- BEGIN QUESTION -->\n",
    "\n",
    "<div class=\"alert alert-block alert-info\">\n",
    "<b>Discussion kernel 1:</b> What happens when you change the command to something like this?\n",
    "print(\"The geometry type of counties geodata frame is: \" + str(counties.geom_type))\n",
    "How is it different from the object type of TCE wells and streams?\n",
    "</div>\n",
    "<!--\n",
    "BEGIN QUESTION\n",
    "name: q1\n",
    "points: 1\n",
    "manual: true\n",
    "-->"
   ]
  },
  {
   "cell_type": "markdown",
   "metadata": {
    "cell_id": "00028-b1158356-4a3e-4d40-b170-01c8f7363857",
    "deepnote_cell_type": "markdown",
    "tags": []
   },
   "source": [
    "**Answer here** *Double click to edit this markdown cell with your answer*"
   ]
  },
  {
   "cell_type": "markdown",
   "metadata": {
    "cell_id": "00019-50c9a5e0-8e92-44fb-b60c-d51bacae6561",
    "deepnote_cell_type": "markdown",
    "tags": []
   },
   "source": [
    "<!-- END QUESTION -->\n",
    "\n",
    "<h3>Coordinate Referencing Systems </h3>\n",
    "\n",
    "One of the most important aspects of spatial data structures is the [coordinate referencing](https://lyzidiamond.com/posts/4326-vs-3857), or \n",
    "geographic referencing system, or [spatial reference](https://pro.arcgis.com/en/pro-app/latest/help/data/geodatabases/overview/an-overview-of-spatial-references.htm), used to make the data's geometry.\n",
    "For this module we used EPSG 4326, also known as WGS_1984_Web_Mercator_Auxiliary_Sphere, \n",
    "because the interactive folium map requires the data be in that projection.\n",
    "As we learned in class, spatial measurements will differ when using different systems, \n",
    "especially whether they represent planar or spherical geometries and what datum is used.\n",
    "The raw datasets came in different coordinate systems, but for the sake of time they were \n",
    "standardized before sharing. The original CRS of a dataset is ideally noted somewhere \n",
    "in the metadata and website where you found it. When you are collecting raw data your GPS (Geographic Positioning\n",
    "System) device will have a setting determining what CRS the data is recorded in.\n",
    "\n",
    "If you want to learn how the data was made you would have to check out each data's documents. For example, here is the [technical documentation](https://www2.census.gov/geo/pdfs/maps-data/data/tiger/tgrshp2019/TGRSHP2019_TechDoc.pdf) for the census."
   ]
  },
  {
   "cell_type": "code",
   "execution_count": null,
   "metadata": {
    "cell_id": "00009-7944b17f-2948-4d28-a909-20933b90485d",
    "collapsed": false,
    "deepnote_cell_type": "code",
    "deepnote_to_be_reexecuted": true,
    "execution_millis": 43,
    "jupyter": {
     "outputs_hidden": false
    },
    "output_cleared": false,
    "source_hash": "d512ed27"
   },
   "outputs": [],
   "source": [
    "#check to if the crs of the spatial objects match\n",
    "print(\"The CRS of the counties geodata frame is: \" + str(counties.crs))\n",
    "print(\"The CRS of the watershed geodata frame is: \" + str(ws.crs))\n",
    "print(\"The CRS of the stream geodata frame is: \" + str(streams.crs))\n",
    "print(\"The CRS of the well geodata frame is: \" + str(TCEwells.crs))\n",
    "print(\"The CRS of the land cover tif is: \" + str(lc.crs))"
   ]
  },
  {
   "cell_type": "markdown",
   "metadata": {
    "cell_id": "00022-8975ed10-b766-4beb-9e1a-ec0d5e63f6fa",
    "deepnote_cell_type": "markdown",
    "tags": []
   },
   "source": [
    "<!-- BEGIN QUESTION -->\n",
    "\n",
    "<div class=\"alert alert-block alert-info\">\n",
    "<b>Discussion kernel 2:</b> What was the original projection of the census dataset according to its technical documentation? Hint: Look for (hit ctrl+f on the document) words like CRS, datum, or projection.\n",
    "</div>\n",
    "\n",
    "<!--\n",
    "BEGIN QUESTION\n",
    "name: q2\n",
    "points: 1\n",
    "manual: true\n",
    "-->"
   ]
  },
  {
   "cell_type": "markdown",
   "metadata": {
    "cell_id": "00031-74f6df85-9daa-425c-b323-698d6c4796dd",
    "deepnote_cell_type": "markdown",
    "tags": []
   },
   "source": [
    "**Answer here** *Double click to edit this markdown cell with your answer*"
   ]
  },
  {
   "cell_type": "markdown",
   "metadata": {
    "cell_id": "00019-0fc21c72-cdb7-4515-a6c0-556cdf784a9a",
    "deepnote_cell_type": "markdown",
    "tags": []
   },
   "source": [
    "<!-- END QUESTION -->\n",
    "\n",
    "<h3> What other data is in my spatial data? </h3>\n",
    "\n",
    "To see what attributes each of the spatial features has we can use the SET command on each object. This is similar to printing out the names of all the columns in a spreadsheet; where the rows are individual cases or data points and the columns are attributes.\n"
   ]
  },
  {
   "cell_type": "code",
   "execution_count": null,
   "metadata": {
    "cell_id": "00012-b2bd9972-a232-4640-854f-d7cf9b464e6e",
    "collapsed": false,
    "deepnote_cell_type": "code",
    "deepnote_to_be_reexecuted": true,
    "execution_millis": 0,
    "jupyter": {
     "outputs_hidden": false
    },
    "output_cleared": false,
    "source_hash": "a0a97561"
   },
   "outputs": [],
   "source": [
    "set(TCEwells)"
   ]
  },
  {
   "cell_type": "markdown",
   "metadata": {
    "cell_id": "00017-6c84dd84-eb69-4057-9326-6f280b454c75",
    "deepnote_cell_type": "markdown",
    "tags": []
   },
   "source": [
    "**Attribute tables**\n",
    "\n",
    "Try running the cell below of each of the geodataframes. You can do this by removing the # in front of the object name one at a time. what happens when multiple lines don't have the #?\n",
    "The method `.head` lets you look at the first five rows. If you fill the parentheses with an integer, you can view whatever number of rows are specified by that integer.\n",
    "It is important to know exactly how the heading name is saved in the data so that you can call up certain data values for analysis."
   ]
  },
  {
   "cell_type": "markdown",
   "metadata": {
    "cell_id": "00036-c0c58944-2faa-490d-8c8a-17d153f05e8c",
    "deepnote_cell_type": "markdown",
    "tags": []
   },
   "source": [
    "<!-- BEGIN QUESTION -->\n",
    "\n",
    "<div class=\"alert alert-block alert-info\">\n",
    "<b>Discussion kernel 3:</b> What headers in TCE well data are useful for analysis? How is this data limited in our pursuit of environmental justice?\n",
    "</div>\n",
    "\n",
    "<!--\n",
    "BEGIN QUESTION\n",
    "name: q3\n",
    "points: 1\n",
    "manual: true\n",
    "-->"
   ]
  },
  {
   "cell_type": "markdown",
   "metadata": {
    "cell_id": "00035-29115d85-6890-43ca-84ae-785435414ca2",
    "deepnote_cell_type": "markdown",
    "tags": []
   },
   "source": [
    "**Answer here** *Double click to edit this markdown cell with your answer*"
   ]
  },
  {
   "cell_type": "markdown",
   "metadata": {
    "cell_id": "00038-424dd706-637e-4f46-925e-5aa63f0c3b2b",
    "deepnote_cell_type": "markdown",
    "tags": []
   },
   "source": [
    "<!-- END QUESTION -->\n"
   ]
  },
  {
   "cell_type": "code",
   "execution_count": null,
   "metadata": {
    "cell_id": "00011-37e32b12-268d-49b8-9cec-e69c40d89b3d",
    "collapsed": false,
    "deepnote_cell_type": "code",
    "deepnote_to_be_reexecuted": true,
    "execution_millis": 0,
    "jupyter": {
     "outputs_hidden": false
    },
    "output_cleared": false,
    "source_hash": "ccf5dfcf"
   },
   "outputs": [],
   "source": [
    "#counties.head()\n",
    "#streams.head()\n",
    "#ws.head()\n",
    "#census.head()\n",
    "TCEwells.head()"
   ]
  },
  {
   "cell_type": "markdown",
   "metadata": {
    "cell_id": "00037-7121e131-beb6-411d-9680-7c0606ff8449",
    "deepnote_cell_type": "markdown",
    "tags": []
   },
   "source": [
    "<div class=\"alert alert-block alert-warning\">\n",
    "<b>Coding tip:</b> To run the dot notation on different datasets delete the # infront of the code for the dataset you want to explore.\n",
    "</div>"
   ]
  },
  {
   "cell_type": "markdown",
   "metadata": {
    "cell_id": "00019-d7cc145a-d403-4062-be63-c5bf3e834b96",
    "deepnote_cell_type": "markdown",
    "tags": []
   },
   "source": [
    "<h3>Using methods on objects</h3>\n",
    "\n",
    "Objects of different types have 'methods' you can call on them for quick information. The type of method is limited by the object type and what the creators of the library have included.\n",
    "More on object attributes and methods from the [documentation](https://geopandas.org/data_structures.html?highlight=method). A list of all the commands you can use is [here](https://geopandas.org/reference.html)."
   ]
  },
  {
   "cell_type": "code",
   "execution_count": null,
   "metadata": {
    "cell_id": "00019-123bd4ea-b814-4d72-9b67-e8e7553b4547",
    "deepnote_cell_type": "code",
    "deepnote_to_be_reexecuted": true,
    "execution_millis": 53,
    "output_cleared": false,
    "source_hash": "fd12bd67",
    "tags": []
   },
   "outputs": [],
   "source": [
    "#calling methods on the object are limited to the object type\n",
    "print(counties.geometry.total_bounds)\n",
    "print(census.geometry.total_bounds)"
   ]
  },
  {
   "cell_type": "markdown",
   "metadata": {
    "cell_id": "00027-1558974a-4c4f-47f6-9c46-328b1e1f44e0",
    "deepnote_cell_type": "markdown",
    "tags": []
   },
   "source": [
    "To quickly see how many features have a unique name use this method which works on all pandas DataFrame objects \n",
    "The generic syntax is Dataframe.column_name.num_unique_values for our dataset. The code is as follows:"
   ]
  },
  {
   "cell_type": "code",
   "execution_count": null,
   "metadata": {
    "cell_id": "00015-4f149960-fed4-48e8-8927-2144beb25db8",
    "collapsed": false,
    "deepnote_cell_type": "code",
    "deepnote_to_be_reexecuted": true,
    "execution_millis": 0,
    "jupyter": {
     "outputs_hidden": false
    },
    "output_cleared": false,
    "source_hash": "8223642"
   },
   "outputs": [],
   "source": [
    "counties.NAMELSAD.nunique()"
   ]
  },
  {
   "cell_type": "markdown",
   "metadata": {
    "cell_id": "00022-63347635-f26e-419b-9b19-491994739181",
    "deepnote_cell_type": "markdown",
    "tags": []
   },
   "source": [
    "<h3> Multi-dimensional Data? </h3>\n",
    "\n",
    "Notice the date attribute in the TCEwell.head output and that several well IDs are repeated. \n",
    "This indicates our well data has a time component and repeated unique well IDs are wells that were tested over a period of time. This tells us something about the environmental system being monitored.\n",
    "TCE concentrations at a well change over time as the toxic plume they are observing with the wells develops.\n",
    "This is multidimensional data in a fairly simple format. The dimensions being: Space(xy),time \n",
    "(date of measurement), and TCE concentration. A lot of environmental datasets are multidimensional.\n",
    "If you want to chase a rabbit look up netCDF4 files.\n",
    "\n",
    "This has serious implications for how we visualize the data because if we take each row to mean \n",
    "an individual TCE contaminated well, as opposed to a measurement of TCE at a particular location \n",
    "**and time**, we will be repeating the same point multiple times when plotting or counting.\n",
    "\n",
    "\n",
    "To quickly see how many unique wells had detectable TCE use the .nunique method. Notice that it can be run by indexing the column in brackets and quotes,this is necessary for a header name with spaces."
   ]
  },
  {
   "cell_type": "code",
   "execution_count": null,
   "metadata": {
    "cell_id": "00022-a3f9ac16-ddec-439a-b140-81faa8156d35",
    "deepnote_cell_type": "code",
    "deepnote_to_be_reexecuted": true,
    "execution_millis": 1,
    "source_hash": "12fe5d88",
    "tags": []
   },
   "outputs": [],
   "source": [
    "TCEwells['WELL ID'].nunique()"
   ]
  },
  {
   "cell_type": "markdown",
   "metadata": {
    "cell_id": "00024-4d08693d-2387-4660-854d-a331c733d105",
    "deepnote_cell_type": "markdown",
    "tags": []
   },
   "source": [
    "A politician has hired your firm to make a quick visualization of the worst case TCE scenario using existing data.\n",
    "Their budget is limited, so they haven't hired hydrogeologists or public health specialists to help you.\n",
    "\n",
    "The deadline is approaching so you decide to make a map representing all wells with TCE at one point in time.\n",
    "To do this you aggregated by unique well ID by picking the highest recorded value of TCE at each well. For more information on aggregating with the dissolve function review this geopandas [documentation](https://geopandas.org/aggregation_with_dissolve.html). Notice that the code is very similar to pandas syntax.\n",
    "\n",
    "\n",
    "`unique = TCEwells.dissolve(by='WELL ID', aggfunc='max')`\n",
    "`sites = uniquewell`\n",
    "\n",
    "Below we make a new object containing unique well data then we replace the object names sites with this shorter list of wells."
   ]
  },
  {
   "cell_type": "markdown",
   "metadata": {
    "cell_id": "00037-e0a2a8e2-27b9-4a32-a44e-9175c5ed9abf",
    "deepnote_cell_type": "markdown",
    "tags": []
   },
   "source": [
    "<div class=\"alert alert-block alert-success\">\n",
    "<b>Data life cycle:</b> Data scientists work in teams and at times in specific parts of the data life cycle. Ideally, you would receive a modeled dataset frm hydrogeologists unless you are trained in modeling groundwater.\n",
    "</div>"
   ]
  },
  {
   "cell_type": "code",
   "execution_count": null,
   "metadata": {
    "cell_id": "00025-bc23d726-c068-4de1-b3cd-18321cca0fe8",
    "deepnote_cell_type": "code",
    "deepnote_to_be_reexecuted": true,
    "execution_millis": 143,
    "source_hash": "a67a3c88",
    "tags": []
   },
   "outputs": [],
   "source": [
    "sites = TCEwells.loc[TCEwells.groupby('WELL ID')['RESULTS'].idxmax()]"
   ]
  },
  {
   "cell_type": "markdown",
   "metadata": {
    "cell_id": "00047-d4aba024-8390-483b-9f2f-7a92a4f58bcd",
    "deepnote_cell_type": "markdown",
    "tags": []
   },
   "source": [
    "Let's run `.head()` again to see if it worked."
   ]
  },
  {
   "cell_type": "code",
   "execution_count": null,
   "metadata": {
    "cell_id": "00019-4b17e87a-8431-437a-81f5-72d45328709a",
    "deepnote_cell_type": "code",
    "deepnote_to_be_reexecuted": true,
    "execution_millis": 20,
    "output_cleared": false,
    "source_hash": "10640a42",
    "tags": []
   },
   "outputs": [],
   "source": [
    "sites.head()"
   ]
  },
  {
   "cell_type": "markdown",
   "metadata": {
    "cell_id": "00013-ac1178ad-f26e-4bf2-b96a-2420a4ed33f7",
    "deepnote_cell_type": "markdown",
    "output_cleared": false
   },
   "source": [
    "<!-- BEGIN QUESTION -->\n",
    "\n",
    "<div class=\"alert alert-block alert-info\">\n",
    "<b>Discussion kernel 4:</b> Pick another one of the datasets and look at the attribute table using the .head command. What columns stand out to you? Which seem to be associated with the spatial nature of the data?\n",
    "</div>\n",
    "\n",
    "<!--\n",
    "BEGIN QUESTION\n",
    "name: q4\n",
    "points: 1\n",
    "manual: true\n",
    "-->"
   ]
  },
  {
   "cell_type": "markdown",
   "metadata": {
    "cell_id": "00049-3544c1b7-8d90-4292-bf40-c4519fa8d56a",
    "deepnote_cell_type": "markdown",
    "tags": []
   },
   "source": [
    "**Answer here** *Double click to edit this markdown cell with your answer*"
   ]
  },
  {
   "cell_type": "markdown",
   "metadata": {
    "cell_id": "00021-5487fbab-36e0-4d08-944c-d545eec3d860",
    "deepnote_cell_type": "markdown",
    "output_cleared": false,
    "tags": []
   },
   "source": [
    "<!-- END QUESTION -->\n",
    "\n",
    "<h3> Raster Objects </h3>\n",
    "\n",
    "You know that TCE contamination has something to do with land use, so you download a raster map of Alameda county land cover to\n",
    "experiment with.\n",
    "Always refer to the [rasterio documentation](https://rasterio.readthedocs.io/en/latest/quickstart.html#dataset-attributes)\n",
    " for full descriptions on how to work with raster objects.\n",
    "\n",
    "To get more information on raster data type, like how big it is try\n",
    "`print(lc.profile)`\n",
    "\n",
    "Printing the profile lets us know our raster has 1 band, although that is not easy to read from the output. \n",
    "Multi-banded rasters are very useful for working with multidimensional data. If you are working with one you will have to index the bands you are using as you work with the data. \n",
    "To see only how many bands are in our raster you can run:\n",
    "\n",
    "```\n",
    "lc.count\n",
    "```\n",
    "If the output is 1, we only have a single band.\n",
    "\n",
    "To get the extent for a raster you can try:\n",
    "\n",
    "```\n",
    "lc_extent = plotting_extent(lc_src)\n",
    "```\n",
    "Below we use some of the functionality in rasterio to print a histogram that will show us how many pixels of each land cover type are in our data. The bin values are the values the dataset uses to represent land cover. "
   ]
  },
  {
   "cell_type": "code",
   "execution_count": null,
   "metadata": {
    "cell_id": "00022-8b0bb82f-10be-4ea9-b1e5-0093c7f70563",
    "deepnote_cell_type": "code",
    "deepnote_to_be_reexecuted": true,
    "execution_millis": 7424,
    "output_cleared": false,
    "source_hash": "98e1d147",
    "tags": []
   },
   "outputs": [],
   "source": [
    "bins = [0,11,21,22,23,24,31,41,42,43,52,71,81,82,90,95]\n",
    "\n",
    "rasterio.plot.show_hist(lc, lw=0.0, stacked=False, alpha=0.3, histtype='stepfilled', title=\"Histogram\", bins= bins)\n",
    "\n",
    "plt.tight_layout()"
   ]
  },
  {
   "cell_type": "markdown",
   "metadata": {
    "cell_id": "00041-f8a82c0e-6ab1-4207-8fdf-79546f3625a0",
    "deepnote_cell_type": "markdown",
    "tags": []
   },
   "source": [
    "**Leveraging Libraries**\n",
    "\n",
    "This example is to show you some of the functionality of rasterio, but a [histogram](https://en.wikipedia.org/wiki/Histogram) is not the most appropriate visualization for this kind of data because our values are categorical not continuous.\n",
    "\n",
    "Sometimes it's convenient to use additional libraries to do standard queries. There are many ways to write code to calculate what percent of land cover in Alameda county is Urban. You could write code to do a pixel by pixel count using rasterio, or you could use the 'compute class metrics' function in the [pylandstats library](https://pylandstats.readthedocs.io/en/latest/#); a library that was designed to work with land cover data. The only tricky part is that the data has to be an object that pylandstats recognizes, not rasterio. In this case, loading the raster object as a landscape object is easy.\n",
    " \n",
    "This library is primarily used to calculate landscape metrics which are useful for understanding [landscape ecology](https://en.wikipedia.org/wiki/Landscape_ecology). Using this library to its full potential requires that you understand how to appropriately use the methods and interpret the results. In a way, landscape metrics are about quantifying spatial patterns, powerful stuff.\n",
    "\n",
    "In the code below we calculate what percent of the total pixels are of which land cover. We know that the raster has categorical values. You would have to reference the data [legend guide](https://www.mrlc.gov/data/legends/national-land-cover-database-2016-nlcd2016-legend) to know what the codes refer to."
   ]
  },
  {
   "cell_type": "code",
   "execution_count": null,
   "metadata": {
    "cell_id": "00063-685201c7-1240-4ca8-92d7-97ae1c0d19c7",
    "deepnote_cell_type": "code",
    "deepnote_to_be_reexecuted": true,
    "source_hash": "10f2d3be",
    "tags": []
   },
   "outputs": [],
   "source": [
    "#calculating class metrics\n",
    "#loading the data as a pls object\n",
    "ls = pls.Landscape('zip://4326.zip!4326/Alameda_lc1.tif')\n",
    "\n",
    "#pls has its own set of calls to use dot notation with\n",
    "#uncomment the line below if you want to run it\n",
    "#ls.area\n",
    "\n",
    "class_metrics_df = ls.compute_class_metrics_df(metrics=['proportion_of_landscape'])\n",
    "class_metrics_df\n",
    "\n",
    "#you can also plot with this library\n",
    "#Delete the # in front on the line below to see the plot\n",
    "#ls.plot_landscape(legend=True)\n"
   ]
  },
  {
   "cell_type": "markdown",
   "metadata": {
    "cell_id": "00055-ca0d1c34-cf8d-4012-9767-27e0b283b715",
    "deepnote_cell_type": "markdown",
    "tags": []
   },
   "source": [
    "<div class=\"alert alert-block alert-warning\">\n",
    "<b>Coding tip:</b> The custom is to write install and import lines in the beginning of your code. You can run them at any point of the notebook and it will work as long as you load the library before trying to use it.</div>"
   ]
  },
  {
   "cell_type": "markdown",
   "metadata": {
    "cell_id": "00020-8a1f567f-53cf-483e-bc39-d84975a910dd",
    "deepnote_cell_type": "markdown",
    "output_cleared": false,
    "tags": []
   },
   "source": [
    "<h1>\n",
    "Seeing (plotting) your data\n",
    "</h1>\n",
    "\n",
    "Part of the fun in using spatial data is seeing the data as a map. In the code below we explore plotting raster and vector data using their respective libraries.\n",
    "We also utilize matplotlib to plot multiple layers and maps at once. Keep in mind that here are many ways to plot maps in python.\n",
    "\n",
    "We know that this raster is suppose to show us land cover in Alameda county but does the plot from Pylandstats look like anything you recognize?\n",
    "\n",
    "Land cover rasters have a number representing a land cover class in each pixel, these pixels are colored based on the number but the legend is not something your eyes can quickly interpret, you would have to build a custom legend or find one that is close."
   ]
  },
  {
   "cell_type": "code",
   "execution_count": null,
   "metadata": {
    "cell_id": "00023-352284db-4302-48ef-a6d5-7d252313cde4",
    "deepnote_cell_type": "code",
    "deepnote_to_be_reexecuted": true,
    "execution_millis": 374,
    "output_cleared": false,
    "source_hash": "1eb00ef2",
    "tags": []
   },
   "outputs": [],
   "source": [
    "fig, ax = plt.subplots()\n",
    "\n",
    "rasterio.plot.show(lc, cmap= 'gist_earth', ax=ax)\n",
    "\n",
    "plt.tight_layout()"
   ]
  },
  {
   "cell_type": "markdown",
   "metadata": {
    "cell_id": "00032-ded1d14d-b994-4e93-879d-b38b0fbf630c",
    "deepnote_cell_type": "markdown",
    "tags": []
   },
   "source": [
    "<!-- BEGIN QUESTION -->\n",
    "\n",
    "<div class=\"alert alert-block alert-info\">\n",
    "<b>Discussion kernel 5:</b> To make this into an easily understandable graphic what additional information do you need? Is the \n",
    "legend easy for you to read? What is the main land cover in Alameda County (use the pls table output to help)?\n",
    "</div>\n",
    "\n",
    "<!--\n",
    "BEGIN QUESTION\n",
    "name: q4\n",
    "points: 1\n",
    "manual: true\n",
    "-->"
   ]
  },
  {
   "cell_type": "markdown",
   "metadata": {
    "cell_id": "00049-05b4f19a-7a92-469d-a1f2-421c9c116c12",
    "deepnote_cell_type": "markdown",
    "tags": []
   },
   "source": [
    "**Answer here** *Double click to edit this markdown cell with your answer*"
   ]
  },
  {
   "cell_type": "markdown",
   "metadata": {
    "cell_id": "00045-7ed67efe-6754-496b-b042-e92f41e21ac1",
    "deepnote_cell_type": "markdown",
    "tags": []
   },
   "source": [
    "<!-- END QUESTION -->\n",
    "\n",
    "<div class=\"alert alert-block alert-danger\">\n",
    "<b>HCE connection:</b> This raster is a representation of some characteristics of Alameda county, specifically land cover. It was made\n",
    "using satellite data and advanced remote sensing methods. It looks, and is, authoritative but is typically\n",
    "used by experts that have a deep understanding of their limitations. <b>Run the previous code with the # removed to plot streams.</b> Because of the limitations in this raster dataset, streams are not visible on the raster alone. A map with the raster alone disconnects the observer from streams and other uncaptured features that also exist in the county.\n",
    "</div>"
   ]
  },
  {
   "cell_type": "markdown",
   "metadata": {
    "cell_id": "00062-06c226a3-fe0e-426f-9f35-6bc6c8972b06",
    "deepnote_cell_type": "markdown",
    "tags": []
   },
   "source": [
    "Now let's see what happens when we plot vectors using the built in dot notation call in geopandas."
   ]
  },
  {
   "cell_type": "code",
   "execution_count": null,
   "metadata": {
    "cell_id": "00016-d30852eb-9310-4fc0-929c-c13fdb72f008",
    "collapsed": false,
    "deepnote_cell_type": "code",
    "deepnote_to_be_reexecuted": true,
    "execution_millis": 14206,
    "jupyter": {
     "outputs_hidden": false
    },
    "output_cleared": false,
    "source_hash": "64f3425e"
   },
   "outputs": [],
   "source": [
    "TCEwells.plot()\n",
    "counties.plot()\n",
    "streams.plot()\n",
    "ws.plot()"
   ]
  },
  {
   "cell_type": "markdown",
   "metadata": {
    "cell_id": "00046-d0af802e-43aa-4bc9-9557-26b6897d103e",
    "deepnote_cell_type": "markdown",
    "tags": []
   },
   "source": [
    "When you plot this way you get individual plots, which can be useful if you only need to look at one layer. \n",
    "Spatial data is inherently relational, you can communicate much more meaning  by showing multiple related, or ancilliary, data sets at once. In other words there is more to gain from plotting many layers together. This layering happens by plotting dataset layers on top of each other in an appropriate order.\n",
    "\n",
    "**Plotting values**\n",
    "\n",
    "There is more to plotting spatial data than modeling its location. Spatial data often has \n",
    "properties, or attributes, associated with each feature.\n",
    "Think of each feature as representing a county, each county has a row and columns that are further information on each feature.\n",
    "We can index these columns in geopandas like we would in pandas. "
   ]
  },
  {
   "cell_type": "code",
   "execution_count": null,
   "metadata": {
    "cell_id": "00028-401a9d04-4c78-4d7c-b924-de50701c7c39",
    "deepnote_cell_type": "code",
    "deepnote_to_be_reexecuted": true,
    "execution_millis": 137,
    "output_cleared": false,
    "source_hash": "c7ac9b76",
    "tags": []
   },
   "outputs": [],
   "source": [
    "counties.hist(column ='ALAND');"
   ]
  },
  {
   "cell_type": "markdown",
   "metadata": {
    "cell_id": "00048-da3514f3-b85a-4bb1-8e7f-6030c113d4e9",
    "deepnote_cell_type": "markdown",
    "tags": []
   },
   "source": [
    "In the histogram above you can observe the distribution of total land area in each of California's counties. We can see that some clearly stand out as larger than most counties."
   ]
  },
  {
   "cell_type": "markdown",
   "metadata": {
    "cell_id": "00047-927fe9e3-f688-4c59-bd55-23361a11bb7e",
    "deepnote_cell_type": "markdown",
    "tags": []
   },
   "source": [
    "**Customizing plots**\n",
    "\n",
    "Choosing a color scheme within matplotlib can be daunting, try to find sample code with pre-defined color schemes or\n",
    "spend time to develop your own palette using a user defined color map. \n",
    "Matplotlib has [guides](https://matplotlib.org/3.1.1/tutorials/colors/colormaps.html) you can reference to start.\n",
    "\n",
    "Next we will see how using the function `Quantiles` from the mapclassify library can save us time \n",
    "by binning values and applying \n",
    "a color scheme based on what [quantile](https://en.wikipedia.org/wiki/Quantile) the attribute's value falls within the distribution of all features."
   ]
  },
  {
   "cell_type": "code",
   "execution_count": null,
   "metadata": {
    "cell_id": "00051-f66f4d4b-5fae-4d7b-baea-62de796212a2",
    "deepnote_cell_type": "code",
    "deepnote_to_be_reexecuted": true,
    "execution_millis": 593,
    "source_hash": "c3e2a1e1",
    "tags": []
   },
   "outputs": [],
   "source": [
    "#Try making fig size larger\n",
    "bins = mapclassify.Quantiles(counties['ALAND'], k=4).bins\n",
    "\n",
    "\n",
    "fig, ax = plt.subplots()\n",
    "counties.plot(column='ALAND', cmap='PuOr', scheme=\"User_Defined\", \n",
    "         legend=True, classification_kwds=dict(bins= bins),\n",
    "         ax=ax,edgecolor='black')\n",
    "\n",
    "fig = mpl.pyplot.gcf() #here we call a function (gcf) in matplolib(mpl) through the pyplot collection \n",
    "fig.set_size_inches(10.5, 8.5) #This gives us a big image to look at\n",
    "\n",
    "#fig.savefig('test2png.png', dpi=100) If you wanted to save the image this is the code to use\n",
    "\n",
    "plt.title(\"Big and Small Counties in California\")\n",
    "plt.tight_layout()\n",
    "plt.show()\n",
    "\n",
    "#would be better is legend actually showed and showed \n",
    "#not covering the map. if you remove plt.legend(loc='upper left')\n",
    "#you can see the legend but a new problem arises\n"
   ]
  },
  {
   "cell_type": "markdown",
   "metadata": {
    "cell_id": "00048-b240f051-2bc0-4f81-bee3-8ef8e8c47f2e",
    "deepnote_cell_type": "markdown",
    "tags": []
   },
   "source": [
    "<!-- BEGIN QUESTION -->\n",
    "<div class=\"alert alert-block alert-info\">\n",
    "<b>Discussion kernel 6:</b> What is the difference between plotting the raw value, acres of land per county, and plotting the county's size\n",
    "based on where in the distribution (quantile) of county sizes (Histogram bin) they fall? What happens when you change the k value?\n",
    "</div>\n",
    "\n",
    "<!--\n",
    "BEGIN QUESTION\n",
    "name: 6\n",
    "points: 1\n",
    "manual: true\n",
    "-->"
   ]
  },
  {
   "cell_type": "markdown",
   "metadata": {
    "cell_id": "00071-7fd67c07-09ff-460c-a443-da4b7948b9f9",
    "deepnote_cell_type": "markdown",
    "tags": []
   },
   "source": [
    "**Answer here** *Double click to edit this markdown cell with your answer*"
   ]
  },
  {
   "cell_type": "markdown",
   "metadata": {
    "cell_id": "00052-816b3105-973c-40a4-93e2-ed677dc7848a",
    "deepnote_cell_type": "markdown",
    "tags": []
   },
   "source": [
    "<!-- END QUESTION -->\n",
    "\n",
    "**Using Subplots for multiple maps**\n",
    "\n",
    "Comparing maps when first exploring data is easiest when they are side by side. \n",
    "Below we use matplolib subplots to see which counties stands out as a big or small and how your \n",
    "color scheme can change the visual impact it has. Notice that as you call a function there are optional arguments\n",
    "you can state in the code to customize the plot. Below we compare ALAND in quantiles and in raw numbers to help you answer the question above."
   ]
  },
  {
   "cell_type": "code",
   "execution_count": null,
   "metadata": {
    "cell_id": "00049-64fae0ce-6ac3-4ffe-acf9-7af0b0a9f51d",
    "deepnote_cell_type": "code",
    "deepnote_to_be_reexecuted": true,
    "execution_millis": 1147,
    "source_hash": "5a1dcfc5",
    "tags": []
   },
   "outputs": [],
   "source": [
    "fig,ax = plt.subplots(1,2)\n",
    "\n",
    "ax[0].set_title(\"Quantile Classification\", fontsize=25, ha='center')\n",
    "counties.plot(column='ALAND', cmap='PuOr', scheme=\"User_Defined\", \n",
    "         classification_kwds=dict(bins= bins),\n",
    "         ax=ax[0],edgecolor='black')\n",
    "\n",
    "ax[1].set_title(\"Land Size Gradient\", fontsize=25, ha='center')\n",
    "counties.plot(column='ALAND', ax=ax[1], edgecolor='white')\n",
    "\n",
    "fig = mpl.pyplot.gcf()\n",
    "fig.set_size_inches(18.5, 10.5)\n",
    "\n",
    "plt.tight_layout()\n",
    "plt.show()"
   ]
  },
  {
   "cell_type": "markdown",
   "metadata": {
    "cell_id": "00025-d772cce3-bd11-4f05-9eef-1df7741e7b90",
    "deepnote_cell_type": "markdown",
    "output_cleared": false,
    "tags": []
   },
   "source": [
    "## Plotting a map with multiple layers - PART 2\n",
    "There are two main methods to plot multiple layers, using [geopandas](https://geopandas.org/mapping.html) plot or \n",
    "matplotlib objects which has more flexibility. Remember that for multiple layers to be drawn together they must be in the same projection, otherwise their coordinates will be drawn [differently](https://xkcd.com/977/).\n",
    "In the code below we plot multiple layers by specifying plots using `plot` command before the `plt.show()`"
   ]
  },
  {
   "cell_type": "markdown",
   "metadata": {
    "cell_id": "00067-f80bef76-f9d2-4a61-9ada-eb39f6f2ed07",
    "deepnote_cell_type": "markdown",
    "tags": []
   },
   "source": [
    "<div class=\"alert alert-block alert-warning\">\n",
    "<b>Coding tip:</b> If you are having trouble getting different layers to occupy the same space you probably have a CRS or lat/long vs long/lat problem. We will look at plotting multiple layers together later in this module.</div>\n",
    "\n"
   ]
  },
  {
   "cell_type": "code",
   "execution_count": null,
   "metadata": {
    "cell_id": "00047-6567ff69-3fcc-4e85-818e-c8641d2c7c1d",
    "deepnote_cell_type": "code",
    "deepnote_to_be_reexecuted": true,
    "execution_millis": 726,
    "source_hash": "c6e21662",
    "tags": []
   },
   "outputs": [],
   "source": [
    "fig, ax = plt.subplots()\n",
    "\n",
    "fig = mpl.pyplot.gcf()\n",
    "fig.set_size_inches(18.5, 10.5)\n",
    "\n",
    "# set aspect to equal. This is done automatically\n",
    "# when using *geopandas* plot on it's own, but not when\n",
    "# working with pyplot directly.\n",
    "\n",
    "#ax.set_aspect('equal')\n",
    "\n",
    "counties.plot(ax=ax, color='white', edgecolor='black')\n",
    "\n",
    "sites.plot(ax=ax, marker='o', color='red', markersize=1)\n",
    "\n",
    "plt.show();"
   ]
  },
  {
   "cell_type": "markdown",
   "metadata": {
    "cell_id": "00062-3ae9298e-9dd1-4810-9cbc-e033e8a69a81",
    "deepnote_cell_type": "markdown",
    "tags": []
   },
   "source": [
    "In the map above we plotted California county boundaries and our Bay Area TCE well points. Since the point data is only in the area around the Bay we may consider changing the [scale and extent](https://www.neonscience.org/resources/learning-hub/tutorials/raster-res-extent-pixels-r) of our map. The linked example is from a spatial data in R (not python), the code is different but the concepts are the same."
   ]
  },
  {
   "cell_type": "markdown",
   "metadata": {
    "cell_id": "00077-852a760b-2a7e-4c95-97d0-5993a67de9e3",
    "deepnote_cell_type": "markdown",
    "tags": []
   },
   "source": [
    "**Interactive mapping widgets**\n",
    "\n",
    "There are many statistical methods for measuring clustering of points and point values. You can find fun widgets that have clustering functions.\n",
    "\n",
    "\n",
    "How does this aggregation method work? zoom in to a big cluster, \n",
    "is there something you notice about where sets of multiple wells are located?\n",
    "\n",
    "Spatial data is special in part because sampling bias can also occur spatially. In this example with the need for multiple wells on one site when doing\n",
    "spatial statistics with this data. This marker cluster "
   ]
  },
  {
   "cell_type": "code",
   "execution_count": null,
   "metadata": {
    "cell_id": "00047-6ba4910d-b837-45ab-b674-4efd1f0773ee",
    "deepnote_cell_type": "code",
    "deepnote_to_be_reexecuted": true,
    "execution_millis": 511,
    "output_cleared": false,
    "source_hash": "4e37dae",
    "tags": []
   },
   "outputs": [],
   "source": [
    "#Define coordinates of where we want to center our map\n",
    "bay_coords = [37.871545, -122.260807]\n",
    "\n",
    "#Create the map\n",
    "my_map = folium.Map(\n",
    "    location = bay_coords,\n",
    "    tiles='Stamen Toner',\n",
    "    zoom_start = 5)\n",
    "    \n",
    "points = folium.features.GeoJson(sites)\n",
    "my_map.add_child(folium.plugins.FastMarkerCluster(sites[['LATITUDE', 'LONGITUDE']].values.tolist()))\n",
    "\n",
    "#Display the map\n",
    "display(my_map)\n",
    "\n",
    "#to save the map, perhaps for embedding in a website or presentation, you could use this code\n",
    "#my_map.save(\"save_file.html\")"
   ]
  },
  {
   "cell_type": "markdown",
   "metadata": {
    "cell_id": "00072-d23bf6dc-4bf2-4981-be6c-cda54c28deea",
    "deepnote_cell_type": "markdown",
    "tags": []
   },
   "source": [
    "Zooming into an area of interest and layering can bea ccomplished using code to specify xlim and ylim using the coordinate boundaries of a dataset with the smallest map extent. In the code below we use the extent bounds of sites to create objects with the coordinate values to reference in `ax.set_xlim()`"
   ]
  },
  {
   "cell_type": "code",
   "execution_count": null,
   "metadata": {
    "cell_id": "00023-73e5a9d3-e067-459d-bbca-57c8ec9605ac",
    "deepnote_cell_type": "code",
    "deepnote_to_be_reexecuted": true,
    "execution_millis": 9124,
    "output_cleared": false,
    "source_hash": "cf286fa5",
    "tags": []
   },
   "outputs": [],
   "source": [
    "fig, ax = plt.subplots(figsize = (10,16), dpi= 200)\n",
    "\n",
    "#this part ensures you are zoomed into the sites data\n",
    "xmin, xmax = sites.total_bounds[0],  sites.total_bounds[2]\n",
    "ymin, ymax = sites.total_bounds[1],  sites.total_bounds[3]\n",
    "\n",
    "ax.set_xlim(xmin, xmax)\n",
    "ax.set_ylim(ymin, ymax)\n",
    "\n",
    "#Here we are asking to plot each layer \n",
    "rasterio.plot.show(lc, cmap= 'gist_earth', ax=ax)\n",
    "\n",
    "counties.plot(ax=ax,facecolor=\"none\", edgecolor='black', lw=0.7)\n",
    "\n",
    "#this gives counties a name label\n",
    "counties.cx[xmin:xmax, ymin:ymax] \\\n",
    "    .apply(lambda x: ax.annotate(text =x.NAME, xy=x.geometry.centroid.coords[0], ha='center'),axis=1) \n",
    "#lcm.plot(ax=ax)\n",
    "streams.plot(ax=ax, markersize=0.5)\n",
    "sites.plot(ax=ax, markersize=0.5, color='red')\n",
    "\n",
    "ax.set(title=\"Classified Plot With a Colorbar and Custom Colormap (cmap)\")\n",
    "\n",
    "plt.show()"
   ]
  },
  {
   "cell_type": "markdown",
   "metadata": {
    "cell_id": "00059-472293d9-c965-4b71-bc04-a9c47f418ff9",
    "deepnote_cell_type": "markdown",
    "tags": []
   },
   "source": [
    "<!-- BEGIN QUESTION -->\n",
    "<div class=\"alert alert-block alert-info\">\n",
    "<b>Discussion kernel 7:</b> Is there an extent that would be \n",
    "more useful? At this scale do the streams and points look okay?\n",
    "</div>\n",
    "\n",
    "<!--\n",
    "BEGIN QUESTION\n",
    "name: q7\n",
    "points: 1\n",
    "manual: true\n",
    "-->"
   ]
  },
  {
   "cell_type": "markdown",
   "metadata": {
    "cell_id": "00084-40f36f34-fcff-4aa8-9a3e-5f58dd34d9d4",
    "deepnote_cell_type": "markdown",
    "tags": []
   },
   "source": [
    "**Answer here** *Double click to edit this markdown cell with your answer*"
   ]
  },
  {
   "cell_type": "markdown",
   "metadata": {
    "cell_id": "00017-196e85af-b308-4731-a3e7-920dd9258d8c",
    "deepnote_cell_type": "markdown",
    "output_cleared": false
   },
   "source": [
    "<!-- END QUESTION -->\n",
    "\n",
    "<h1>\n",
    "Visualizing your data\n",
    "</h1>\n",
    "\n",
    "Let's plot data in the attribute table to explore plotting qualitative and quantitative data. Keep in mind that\n",
    "there are many ways to accomplish this, consider this a brief introduction. There are many guides that can\n",
    "help you find the right color scheme, this [Carto guide](https://carto.com/help/tutorials/cartographic-tips-for-thematic-maps/)\n",
    "shows examples from their platform. The type of value your data is displaying will determine if a diverging, sequential, categorial [color schemes](https://matplotlib.org/3.1.0/tutorials/colors/colormaps.)\n",
    "is the most appropriate to use. There are also accessibility considerations to keep in mind. Certain\n",
    "color schemes will not communicate much to the color blind community. This [color brewer site](https://colorbrewer2.org/#type=sequential&scheme=BuGn&n=3) lets you test\n",
    "color schemes that everyone can see meaning from.\n",
    "\n",
    "First we will try plotting a map of California counties where each county is a different color. \n",
    "In technical terms this is plotting by a string attribute that is qualitative.\n",
    "The geopandas [documentation](https://geopandas.org/mapping.html) shows us how to index the column \n",
    "name to plot counties in different colors."
   ]
  },
  {
   "cell_type": "code",
   "execution_count": null,
   "metadata": {
    "cell_id": "00018-73cf5a8f-d73e-41e1-a354-a0ddc9dc8cbb",
    "collapsed": false,
    "deepnote_cell_type": "code",
    "deepnote_to_be_reexecuted": true,
    "execution_millis": 263,
    "jupyter": {
     "outputs_hidden": false
    },
    "output_cleared": false,
    "scrolled": true,
    "source_hash": "b3618454"
   },
   "outputs": [],
   "source": [
    "counties.plot(column = 'NAME', cmap ='Dark2');"
   ]
  },
  {
   "cell_type": "markdown",
   "metadata": {
    "cell_id": "00056-5ff5f159-d4ef-4ed9-b2f0-44c5d420aa0c",
    "deepnote_cell_type": "markdown",
    "tags": []
   },
   "source": [
    "We can also plot color coding the counties by how much water or land they have. If you wanted to show some kind of order, smallest to largest,\n",
    "you should use a sequential colormap; for our quantile map we used a divergent colormap because we had two directions from\n",
    "the mean to represent, the lower and upper quantiles as well as the mean. Ideally, you would normalize these values before plotting.\n",
    "If there are wide distributions in the values the map won't really make much of a point."
   ]
  },
  {
   "cell_type": "code",
   "execution_count": null,
   "metadata": {
    "cell_id": "00020-a91c222f-7d32-4a0d-865d-6a91c35a3bf6",
    "collapsed": false,
    "deepnote_cell_type": "code",
    "deepnote_to_be_reexecuted": true,
    "jupyter": {
     "outputs_hidden": false
    },
    "output_cleared": false,
    "source_hash": "ce3eb87f"
   },
   "outputs": [],
   "source": [
    "counties.plot(column='ALAND');\n",
    "#plotting based on area of land column"
   ]
  },
  {
   "cell_type": "code",
   "execution_count": null,
   "metadata": {
    "cell_id": "00022-7ba01374-01cf-4e17-84d9-6e5be3c0a663",
    "collapsed": false,
    "deepnote_cell_type": "code",
    "deepnote_to_be_reexecuted": true,
    "execution_millis": 1155,
    "jupyter": {
     "outputs_hidden": false
    },
    "output_cleared": false,
    "source_hash": "527a5dee"
   },
   "outputs": [],
   "source": [
    "#Chloropleth map using ALAND and AWATER and matplotlib subplots\n",
    "fig, axes = plt.subplots(\n",
    "    ncols=2, sharex=True, sharey=True, figsize=(10, 5))\n",
    "\n",
    "counties.plot(column='ALAND', cmap='RdBu', scheme=\"User_Defined\", \n",
    "         legend=True, classification_kwds=dict(bins= bins),\n",
    "         ax=axes[0])\n",
    "\n",
    "counties.plot(column='AWATER', cmap='RdBu', scheme=\"User_Defined\", \n",
    "         legend=True, classification_kwds=dict(bins= bins),\n",
    "         ax=axes[1])\n",
    "\n",
    "fig.suptitle('Plotting multiple attributes')\n",
    "plt.tight_layout()\n",
    "plt.show()"
   ]
  },
  {
   "cell_type": "markdown",
   "metadata": {
    "cell_id": "00042-64d1adbb-dc6c-416a-ad7a-aa23d2479c7e",
    "deepnote_cell_type": "markdown",
    "output_cleared": false,
    "tags": []
   },
   "source": [
    "<h1> Mapping values\n",
    "<h1/>\n",
    "\n",
    "We can use [spatial joins](https://geopandas.org/mergingdata.html) as a way to summarize the \n",
    "number of sites per polygon (counties or watersheds). In the code below we continue our policy scenario by considering\n",
    "where to distributing clean-up funding. First we look at counties with the highest TCE concentration values, \n",
    "so we join the well count to county boundaries. We run the same procedure on Berkeley census blocks\n",
    "to consider population data that can indicate a vulnerable population that should be prioritized in \n",
    "funding distribution. Toxic plumes are directly related to geophysical conditions and TCE moves in water, so we also\n",
    "consider well counts within each regional watershed. Environmental impacts of TCE will be greater in sites\n",
    "with higher concentrations, cleaning up these sites first will have a larger impact on ecological health and reducing TCE dispersal.\n",
    "\n",
    "Here are a few examples of spatial joins in [webmaps](http://andrewgaidus.com/leaflet_webmaps_python/ ) like folium. \n",
    "This [blog](https://towardsdatascience.com/how-to-easily-join-data-by-location-in-python-spatial-join-197490ff3544)\n",
    "outlines similarities in the merging process used in pandas and geopandas.\n",
    "\n"
   ]
  },
  {
   "cell_type": "code",
   "execution_count": null,
   "metadata": {
    "cell_id": "00048-a56d687e-8c0e-415a-bcf1-55af887adedc",
    "deepnote_cell_type": "code",
    "deepnote_to_be_reexecuted": true,
    "execution_millis": 1061,
    "output_cleared": false,
    "source_hash": "e3912890",
    "tags": []
   },
   "outputs": [],
   "source": [
    "#first join counties info to sites then \n",
    "cntyjoin_sites = gpd.sjoin(sites, counties, op = 'within') \n",
    "\n",
    "censussites = gpd.sjoin(sites, census, op = 'within')\n",
    "\n",
    "wssites = gpd.sjoin(sites, ws, op= 'within')\n",
    "\n",
    "#group pandas style to count points in counties\n",
    "grouped = cntyjoin_sites.groupby('NAMELSAD').size()\n",
    "df = grouped.to_frame().reset_index()\n",
    "df.columns = [\"NAMELSAD\", \"sites_count\"]\n",
    "\n",
    "#group pandas style to count points in census blocks\n",
    "groupedc = censussites.groupby('CNSBLK_ID').size()\n",
    "df2 = groupedc.to_frame().reset_index()\n",
    "df2.columns = [\"CNSBLK_ID\", \"sites_count\"]\n",
    "\n",
    "#group pandas style to count points in watersheds\n",
    "groupedw = wssites.groupby('HUC10').size()\n",
    "df3 = groupedw.to_frame().reset_index()\n",
    "df3.columns = [\"HUC10\", \"sites_count\"]\n",
    "\n",
    "\n",
    "#merge the count pandas dataframe to counties polygon\n",
    "merged_areas = counties.merge(df, on=\"NAMELSAD\", how= 'outer')\n",
    "\n",
    "#merge the count pandas dataframe to block polygon\n",
    "merged_areasc = census.merge(df2, on=\"CNSBLK_ID\", how= 'outer')\n",
    "\n",
    "#merge the count pandas dataframe to HUC polygon\n",
    "merged_areasw = ws.merge(df3, on=\"HUC10\", how= 'outer')\n",
    "\n",
    "\n",
    "\n"
   ]
  },
  {
   "cell_type": "code",
   "execution_count": null,
   "metadata": {
    "cell_id": "00044-7ff8c60b-7737-4664-b92a-353e8c7790bd",
    "deepnote_cell_type": "code",
    "deepnote_to_be_reexecuted": true,
    "execution_millis": 2108,
    "output_cleared": false,
    "source_hash": "ca115541",
    "tags": []
   },
   "outputs": [],
   "source": [
    "fig, (axe1, axe2, axe3) = plt.subplots(\n",
    "    ncols=3, figsize=(10, 5))\n",
    "\n",
    "\n",
    "merged_areas.plot(column='sites_count', cmap='PuOr', \n",
    "         classification_kwds=dict(bins= 5), ax=axe1,legend=True)\n",
    "axe1.axis('off')\n",
    "\n",
    "\n",
    "merged_areasc.plot(column='sites_count', cmap='PuOr', \n",
    "         classification_kwds=dict(bins= 5), ax=axe2, edgecolor='black', legend=True)\n",
    "census.plot(ax=axe2, facecolor=\"none\", #We add this line to see all census blocks not just those with a TCE well\n",
    "              edgecolor='black', lw=0.2)\n",
    "axe2.axis('off')\n",
    "\n",
    "merged_areasw.plot(column='sites_count', cmap='PuOr', \n",
    "         classification_kwds=dict(bins= 5),ax=axe3,legend=True)\n",
    "axe3.axis('off')\n",
    "\n",
    "axe1.set_title(\"County Quantiles\")\n",
    "axe2.set_title(\"Census Block Quantiles\")\n",
    "axe3.set_title(\"Watershed Quantiles\")\n",
    "\n",
    "#plot merged areas based on quantiles of sites_count\n",
    "plt.show()\n"
   ]
  },
  {
   "cell_type": "markdown",
   "metadata": {
    "cell_id": "00069-3e5dde46-9b37-4f18-928c-002cf82832ac",
    "deepnote_cell_type": "markdown",
    "tags": []
   },
   "source": [
    "<h3> MAUP, Modifiable Areal Unit Problem </h3>\n",
    "\n",
    "We did the same merge procedure on census blocks and local watersheds to show how changing the \n",
    "unit of measurement can change what areas appear worst off. It is not simply about appearance, it creates a\n",
    "statistical sampling bias. You can [learn more about MAUP](http://gispopsci.org/maup/) through scholarly resources.\n",
    "There are ways of quantifying the impact of MAUP in a study and also reasons to disregard MAUP. \n",
    "\n",
    "For example policies can\n",
    "be written to fund particular political units, like counties or cities or special districts. If not specified in the policy, funding allocation will disregard natural boundaries. This can have serious implications when calculating where to target remediation and harm reduction strategies for the impacted population."
   ]
  },
  {
   "cell_type": "markdown",
   "metadata": {
    "cell_id": "00088-18a8de54-7199-43a5-8901-d5dbba366000",
    "deepnote_cell_type": "markdown",
    "tags": []
   },
   "source": [
    "<!-- BEGIN QUESTION -->\n",
    "\n",
    "<div class=\"alert alert-block alert-info\">\n",
    "<b>Discussion kernel 8:</b> If you were a policymaker choosing where to invest money you would have to choose how to\n",
    "distribute clean-up funds. Which boundaries would you use to inform this decision and why? Can you think of an alternative method to deciding where\n",
    "the money is needed most?\n",
    "</div>\n",
    "\n",
    "<!--\n",
    "BEGIN QUESTION\n",
    "name: q21\n",
    "points: 1\n",
    "manual: true\n",
    "-->"
   ]
  },
  {
   "cell_type": "markdown",
   "metadata": {
    "cell_id": "00099-f1f6cdcf-3cbe-46b9-bd85-6d70cda6bbcd",
    "deepnote_cell_type": "markdown",
    "tags": []
   },
   "source": [
    "**Answer here** *Double click to edit this markdown cell with your answer*"
   ]
  },
  {
   "cell_type": "markdown",
   "metadata": {
    "cell_id": "00065-febded75-38db-4f2d-b716-f6eeeda66317",
    "deepnote_cell_type": "markdown",
    "tags": []
   },
   "source": [
    "<!-- END QUESTION -->\n",
    "\n",
    "<h3>Foreshadowing Spatial statistics</h3>\n",
    "\n",
    "Fields can be useful for mapping continuous values that are generated using statistical or \n",
    "physical models. These can be very complex, so we are going to do a simple heatmap that is essentially a spatial histogram.\n",
    "In the traditional histogram a count of how many features fell within a value range is plotted in a bar plot. In a heatmap\n",
    "a count of how many points fell within a pixel is counted and that count is displayed in the pixel color. Some \n",
    "examples of more complex spatial statistics include interpolation and measuring clusterrandomness; two major processes in spatial data analysis.\n",
    "\n",
    "To learn more about other examples of using a raster dataset as a field with statistical values [check out this lab guide by Penn](https://www.seas.upenn.edu/~ese502/NOTEBOOK/Part_II/2_Examples_of_Continuous_Spatial_Data.pdf).\n",
    "There are now some python and R libraries that can compute a variety of spatial statistical models, for example pylandstats is one used to quantify landscape shape, and [pysal](https://pysal.org/) is a very powerful library tackling spatial statistics similar to GeoDa but for python users.\n"
   ]
  },
  {
   "cell_type": "markdown",
   "metadata": {
    "cell_id": "00090-4c04b2bf-5440-450d-9e33-6e21ca56840c",
    "deepnote_cell_type": "markdown",
    "tags": []
   },
   "source": [
    "<div class=\"alert alert-block alert-success\">\n",
    "<b>Data life cycle:</b> Luc Anselin, the modern father of spatial statistics helped develop <a href=\"https://spatial.uchicago.edu/geoda\">GeoDa</a> and pysal. \n",
    "You can find him at the Spatial Data Lab at UChicago.\n",
    "</div>"
   ]
  },
  {
   "cell_type": "markdown",
   "metadata": {
    "cell_id": "00066-a7b84d2a-c294-41cf-b2cf-578cb9f509e1",
    "deepnote_cell_type": "markdown",
    "tags": []
   },
   "source": [
    "<h3>Spatial Binning AKA Heatmaps</h3>\n",
    "\n",
    "The code below is from [a Geopandas Notebook](#https://nbviewer.jupyter.org/gist/perrygeo/c426355e40037c452434) that defines `def` a \n",
    "function which counts how many points, here defined as `d`, fall in a pixel, the size of which is determined by `bins=`. This `heatmap` function could be compiled alongside other functions\n",
    "to make a library of functions to analyze spatial data with. Think of this process like making \n",
    "a spatial histogram."
   ]
  },
  {
   "cell_type": "code",
   "execution_count": null,
   "metadata": {
    "cell_id": "00052-69382f1a-b23d-4538-9f63-d6a2b883be05",
    "deepnote_cell_type": "code",
    "deepnote_to_be_reexecuted": true,
    "execution_millis": 0,
    "source_hash": "a84e43ba",
    "tags": []
   },
   "outputs": [],
   "source": [
    "def heatmap(d, bins=(100,100), smoothing=1.3, cmap='jet'):\n",
    "    def getx(pt):\n",
    "        return pt.coords[0][0]\n",
    "\n",
    "    def gety(pt):\n",
    "        return pt.coords[0][1]\n",
    "\n",
    "    x = list(d.geometry.apply(getx))\n",
    "    y = list(d.geometry.apply(gety))\n",
    "    heatmap, xedges, yedges = np.histogram2d(y, x, bins=bins)\n",
    "    extent = [yedges[0], yedges[-1], xedges[-1], xedges[0]]\n",
    "\n",
    "    logheatmap = np.log(heatmap)\n",
    "    logheatmap[np.isneginf(logheatmap)] = 0\n",
    "    logheatmap = ndimage.filters.gaussian_filter(logheatmap, smoothing, mode='nearest')\n",
    "    \n",
    "    counties.plot(ax=ax,facecolor=\"none\", edgecolor='white', lw=0.7)\n",
    "    \n",
    "    plt.imshow(logheatmap, cmap=cmap, extent=extent)\n",
    "    plt.colorbar()\n",
    "    plt.gca().invert_yaxis()\n",
    "    plt.show()"
   ]
  },
  {
   "cell_type": "markdown",
   "metadata": {
    "cell_id": "00093-8d13d786-bfa7-4a52-821d-456528c1fd7b",
    "deepnote_cell_type": "markdown",
    "tags": []
   },
   "source": [
    "<!-- BEGIN QUESTION -->\n",
    "\n",
    "<div class=\"alert alert-block alert-info\">\n",
    "<b>Discussion kernel 9:</b> What other components of this function stand out to you? \n",
    "What is confusing? Did you look something up?\n",
    "</div>\n",
    "\n",
    "<!--\n",
    "BEGIN QUESTION\n",
    "name: q9\n",
    "points: 1\n",
    "manual: true\n",
    "-->"
   ]
  },
  {
   "cell_type": "markdown",
   "metadata": {
    "cell_id": "00105-6388b6f8-8fe7-423f-a06d-8ca489fd1b84",
    "deepnote_cell_type": "markdown",
    "tags": []
   },
   "source": [
    "**Answer here** *Double click to edit this markdown cell with your answer*"
   ]
  },
  {
   "cell_type": "markdown",
   "metadata": {
    "cell_id": "00106-691ece9a-66d2-4da6-98ee-e442b2b6f523",
    "deepnote_cell_type": "markdown",
    "tags": []
   },
   "source": [
    "<!-- END QUESTION -->"
   ]
  },
  {
   "cell_type": "markdown",
   "metadata": {
    "cell_id": "00106-f797dd65-fe0a-4b4c-b61f-e9194282cf02",
    "deepnote_cell_type": "markdown",
    "tags": []
   },
   "source": [
    "After defining our funtion in the code above, we can run the `heatmap` function by choosing `sites` as our point data and specifying a bin and smoothing argument. Since our function includes a `plt.show()` command we do not have to call plot again for our map to show. Play around with the bin and smoothing values in the code below to see how the raster layer in the map changes."
   ]
  },
  {
   "cell_type": "code",
   "execution_count": null,
   "metadata": {
    "cell_id": "00064-45834b65-120e-4a5f-8323-3df26c49e971",
    "deepnote_cell_type": "code",
    "deepnote_to_be_reexecuted": true,
    "execution_millis": 753,
    "source_hash": "5551ceec",
    "tags": []
   },
   "outputs": [],
   "source": [
    "fig, ax = plt.subplots()\n",
    "\n",
    "heatmap(sites, bins=50, smoothing=2)"
   ]
  },
  {
   "cell_type": "markdown",
   "metadata": {
    "cell_id": "00050-fe27acf7-8a6c-400d-b0a9-4a577ab8e98b",
    "deepnote_cell_type": "markdown",
    "output_cleared": false,
    "tags": []
   },
   "source": [
    "## Comparing maps"
   ]
  },
  {
   "cell_type": "markdown",
   "metadata": {
    "cell_id": "00109-77503603-be27-4674-b40e-47cba926549c",
    "deepnote_cell_type": "markdown",
    "tags": []
   },
   "source": [
    "At the bottom of this [this](https://www.nbcbayarea.com/news/local/toxic-plumes-the-dark-side-of-silicon-valley/1971023/) report is an interactive map of sites of toxic chemical \"plumes\" in Santa Clara County, CA. They show polygons of the sites rather than point data of contaminated wells. Which map do you find more useful in understanding the scope of the TCE problem in the Bay Area?"
   ]
  },
  {
   "cell_type": "markdown",
   "metadata": {
    "cell_id": "00050-3db25c00-eace-493b-a4ef-ee7a5e09b4c9",
    "deepnote_cell_type": "markdown",
    "output_cleared": false,
    "tags": []
   },
   "source": [
    "<h3> Exporting a Map Image </h3>\n",
    "\n",
    "The code to export an image is fairly simple, but there are many additional arguments that could be added to the \n",
    "plt.savefig() call to customize the resolution, size, and format of the resulting image. Other helpful arguments\n",
    "to consider are saving the image in a particular file location and allowing images to be saved over. Matplotlib \n",
    "exports the last image plotted, consider adding this line of code after plt.show() in a cell that is creating\n",
    "your figure. It is helpful to comment out this line if you are still working on a final image. If you run an entire \n",
    "notebook of code multiple times, you can end up with a large collection of draft images. \n"
   ]
  },
  {
   "cell_type": "code",
   "execution_count": null,
   "metadata": {
    "cell_id": "00051-15ca79d9-54d9-492a-abef-1fe0ae5e6b30",
    "deepnote_cell_type": "code",
    "deepnote_to_be_reexecuted": true,
    "output_cleared": false,
    "source_hash": "52955a84",
    "tags": []
   },
   "outputs": [],
   "source": [
    " plt.savefig(\"lastplot.png\", bbox_inches=\"tight\")"
   ]
  },
  {
   "cell_type": "markdown",
   "metadata": {
    "cell_id": "00098-6e44425b-6630-42de-bb87-2a4fa9ba22f4",
    "deepnote_cell_type": "markdown",
    "tags": []
   },
   "source": [
    "<h3> Conclusion </h3>\n",
    "In lecture we discussed how Contaminated well data like the one used in this notebook is generated and shared in what can be described as a sociotechnical system. \n",
    "We also learned about the complex environmental systems that lead to people being exposed to the toxicity of a contaminated site. \n",
    "\n",
    "Throughout this module you've been modeling well locations with TCE, not total contamination of TCE in the Bay area. In the Maantay reading assigned this week we learn about the difficulty in mapping exposure to hazards. The map generated by the heatmap function looks authoritative, but is it actually telling you anything other than where there are existing wells with TCE levels above regulations? \n",
    "\n",
    "When deciding how to collectively manage these sites, we are faced with the complications of history. The historical and ongoing delineations of political jurisdiction, the complexity of bio-chemical and geologic processes all contribute to our limitated understanding the whole system. However, the biggest impediment in using environmental data to guide justice projects centered on community decision making, is that our justice system is not built to protect environments we do not understand or to manage the environment collectively.  \n",
    "\n",
    "I'd like to note that throughout the making of this module it was difficult to keep links to government information. On several occations datasets and publications on toxicity seemed to be moved from the site where they were originally found."
   ]
  },
  {
   "cell_type": "markdown",
   "metadata": {
    "cell_id": "00108-18dfe228-9031-4ba1-980d-faa305c90801",
    "deepnote_cell_type": "markdown",
    "tags": []
   },
   "source": [
    "<!-- BEGIN QUESTION -->\n",
    "\n",
    "<div class=\"alert alert-block alert-info\">\n",
    "<b>Discussion kernel 10:</b> What other vector datasets would be useful to improve the model? What other tabular data?\n",
    "</div>\n",
    "\n",
    "<!--\n",
    "BEGIN QUESTION\n",
    "name: q10\n",
    "points: 1\n",
    "manual: true\n",
    "-->"
   ]
  },
  {
   "cell_type": "markdown",
   "metadata": {
    "cell_id": "00112-577d912a-ab57-4f93-9c11-c9e43ae01961",
    "deepnote_cell_type": "markdown",
    "tags": []
   },
   "source": [
    "**Answer here** *Double click to edit this markdown cell with your answer*"
   ]
  },
  {
   "cell_type": "markdown",
   "metadata": {
    "cell_id": "00114-00271eed-e551-44b1-b538-b0f632eb3abc",
    "deepnote_cell_type": "markdown",
    "tags": []
   },
   "source": [
    "<!-- END QUESTION -->\n",
    "\n",
    "----"
   ]
  },
  {
   "cell_type": "code",
   "execution_count": null,
   "metadata": {
    "cell_id": "00103-fc6e3a0d-20b1-434e-860e-d1e05ed70b39",
    "deepnote_cell_type": "code",
    "deepnote_to_be_reexecuted": true,
    "source_hash": "4bd45922",
    "tags": []
   },
   "outputs": [],
   "source": [
    "# Save your notebook first, then run this cell to export your submission.\n",
    "# Download the zip file, which contains a copy of your notebook and your written responses.\n",
    "generator.export(\"notebook6.ipynb\")"
   ]
  }
 ],
 "metadata": {
  "deepnote": {
   "is_reactive": false
  },
  "deepnote_execution_queue": [],
  "deepnote_notebook_id": "55748f52-d99b-4ff7-9899-541410c42e20",
  "kernelspec": {
   "display_name": "Python 3",
   "language": "python",
   "name": "python3"
  },
  "language_info": {
   "codemirror_mode": {
    "name": "ipython",
    "version": 3
   },
   "file_extension": ".py",
   "mimetype": "text/x-python",
   "name": "python",
   "nbconvert_exporter": "python",
   "pygments_lexer": "ipython3",
   "version": "3.7.3"
  }
 },
 "nbformat": 4,
 "nbformat_minor": 4
}
